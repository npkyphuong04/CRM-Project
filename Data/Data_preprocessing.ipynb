{
  "cells": [
    {
      "cell_type": "code",
      "execution_count": 16,
      "metadata": {
        "colab": {
          "base_uri": "https://localhost:8080/"
        },
        "id": "Vtzt1-3dFAKt",
        "outputId": "2cf0ca8e-3110-495d-82ad-553314ac2d0c"
      },
      "outputs": [
        {
          "name": "stdout",
          "output_type": "stream",
          "text": [
            "Drive already mounted at /content/drive; to attempt to forcibly remount, call drive.mount(\"/content/drive\", force_remount=True).\n"
          ]
        }
      ],
      "source": [
        "from google.colab import drive\n",
        "drive.mount('/content/drive')"
      ]
    },
    {
      "cell_type": "markdown",
      "metadata": {
        "id": "XtaUS9erzkRM"
      },
      "source": [
        "# **A. Setup Environment**"
      ]
    },
    {
      "cell_type": "code",
      "execution_count": 17,
      "metadata": {
        "id": "daiqzv7_IuAk"
      },
      "outputs": [],
      "source": [
        "import os\n",
        "from pyspark.sql import SparkSession\n",
        "from pyspark.sql.window import Window\n",
        "from pyspark.sql.functions import*\n",
        "import matplotlib.pyplot as plt\n",
        "import pandas as pd\n",
        "from pyspark.ml import Pipeline\n",
        "from pyspark.ml.feature import StringIndexer, OneHotEncoder, VectorAssembler, StandardScaler\n",
        "from pyspark.ml.clustering import KMeans\n",
        "from pyspark.ml.evaluation import ClusteringEvaluator\n",
        "from pyspark.ml.feature import PCA\n",
        "from pyspark.sql.functions import min as spark_min, max as spark_max\n",
        "from pyspark.sql.functions import explode,  udf,  when, col, sum as spark_sum\n",
        "from pyspark.sql.types import StructType, StructField, StringType, ArrayType"
      ]
    },
    {
      "cell_type": "code",
      "execution_count": 18,
      "metadata": {
        "colab": {
          "base_uri": "https://localhost:8080/",
          "height": 36
        },
        "id": "MbVT3wXYJz1b",
        "outputId": "4388f1df-f361-462c-c351-c1e412c5f7f1"
      },
      "outputs": [
        {
          "data": {
            "application/vnd.google.colaboratory.intrinsic+json": {
              "type": "string"
            },
            "text/plain": [
              "'org.apache.spark.serializer.KryoSerializer'"
            ]
          },
          "execution_count": 18,
          "metadata": {},
          "output_type": "execute_result"
        }
      ],
      "source": [
        "# Create a new Spark session with optimized configurations\n",
        "spark = (SparkSession.builder\n",
        "         .appName(\"CustomerSegmentationOptimized\")\n",
        "         .config(\"spark.executor.memory\", \"8g\")          # Allocate 8 GB memory to each executor\n",
        "         .config(\"spark.executor.cores\", \"4\")            # Allocate 4 cores to each executor\n",
        "         .config(\"spark.driver.memory\", \"4g\")            # Allocate 4 GB memory to the driver\n",
        "         .config(\"spark.sql.shuffle.partitions\", \"200\")   # Set shuffle partitions to 200\n",
        "         .config(\"spark.serializer\", \"org.apache.spark.serializer.KryoSerializer\")  # Use Kryo serializer for better performance\n",
        "         .getOrCreate())\n",
        "\n",
        "# Verify the new configuration\n",
        "spark.conf.get(\"spark.executor.memory\")       # Should return '8g'\n",
        "spark.conf.get(\"spark.executor.cores\")        # Should return '4'\n",
        "spark.conf.get(\"spark.driver.memory\")         # Should return '4g'\n",
        "spark.conf.get(\"spark.sql.shuffle.partitions\")# Should return '200'\n",
        "spark.conf.get(\"spark.serializer\")            # Should return 'org.apache.spark.serializer.KryoSerializer'"
      ]
    },
    {
      "cell_type": "markdown",
      "metadata": {
        "id": "WVzPcKrUzoVb"
      },
      "source": [
        "# **B. Data Ingestion**"
      ]
    },
    {
      "cell_type": "code",
      "execution_count": 19,
      "metadata": {
        "colab": {
          "base_uri": "https://localhost:8080/"
        },
        "id": "km3mGv1eIu7E",
        "outputId": "ec1e663d-3e6a-4d7a-8ba6-1cbd1dff7230"
      },
      "outputs": [
        {
          "name": "stdout",
          "output_type": "stream",
          "text": [
            "+----------+-------------------+-------------+----+--------------------+---------------+----------+--------+\n",
            "|AppVersion|      EventDateTime|    EventName|Item|            Location|MobileBrandName| SessionID|  Source|\n",
            "+----------+-------------------+-------------+----+--------------------+---------------+----------+--------+\n",
            "|     2.1.7|28-08-2023 15:02:42|session_start|  []|{Bien Hoa, Vietna...|          Apple|1693234962|(direct)|\n",
            "|     2.1.7|28-08-2023 06:35:51|    view_cart|  []|{Buon Ma Thuot, V...|          Apple|1693204441|(direct)|\n",
            "|     2.1.8|28-08-2023 14:38:38|session_start|  []|{Ho Chi Minh City...|          Apple|1693233518|(direct)|\n",
            "|     2.1.7|28-08-2023 06:29:58|session_start|  []|{Ho Chi Minh City...|          Apple|1693204198|(direct)|\n",
            "|     2.1.7|28-08-2023 13:17:23|session_start|  []|{Ho Chi Minh City...|          Apple|1693228643|(direct)|\n",
            "+----------+-------------------+-------------+----+--------------------+---------------+----------+--------+\n",
            "only showing top 5 rows\n",
            "\n"
          ]
        }
      ],
      "source": [
        "file_path = \"/content/drive/MyDrive/Course/Information system management/PHVN_DATest_Dataset.json\"\n",
        "df = spark.read.json(file_path)\n",
        "\n",
        "df.show(5)"
      ]
    },
    {
      "cell_type": "code",
      "execution_count": 20,
      "metadata": {
        "colab": {
          "base_uri": "https://localhost:8080/"
        },
        "id": "q3QcTnkjJ6mg",
        "outputId": "5b2a9705-7491-403b-c4ce-68af798c35b1"
      },
      "outputs": [
        {
          "name": "stdout",
          "output_type": "stream",
          "text": [
            "root\n",
            " |-- AppVersion: string (nullable = true)\n",
            " |-- EventDateTime: string (nullable = true)\n",
            " |-- EventName: string (nullable = true)\n",
            " |-- Item: array (nullable = true)\n",
            " |    |-- element: struct (containsNull = true)\n",
            " |    |    |-- ItemCategory: string (nullable = true)\n",
            " |    |    |-- ItemName: string (nullable = true)\n",
            " |-- Location: struct (nullable = true)\n",
            " |    |-- City: string (nullable = true)\n",
            " |    |-- Country: string (nullable = true)\n",
            " |    |-- Region: string (nullable = true)\n",
            " |-- MobileBrandName: string (nullable = true)\n",
            " |-- SessionID: string (nullable = true)\n",
            " |-- Source: string (nullable = true)\n",
            "\n"
          ]
        }
      ],
      "source": [
        "df.printSchema()"
      ]
    },
    {
      "cell_type": "code",
      "execution_count": 6,
      "metadata": {
        "colab": {
          "base_uri": "https://localhost:8080/"
        },
        "id": "uX-UmR5ZD5ik",
        "outputId": "2178db6e-6363-4a0c-9e1e-7c7eed118454"
      },
      "outputs": [
        {
          "name": "stdout",
          "output_type": "stream",
          "text": [
            "Shape: (443711, 8)\n"
          ]
        }
      ],
      "source": [
        "num_rows = df.count()\n",
        "num_cols = len(df.columns)\n",
        "print(f\"Shape: ({num_rows}, {num_cols})\")"
      ]
    },
    {
      "cell_type": "markdown",
      "metadata": {
        "id": "6x5Dm_zFzTw5"
      },
      "source": [
        "# **C. Data Preprocessing**"
      ]
    },
    {
      "cell_type": "markdown",
      "metadata": {
        "id": "ERXReCW9zZyM"
      },
      "source": [
        "### **Step 1:** Parse `EventDateTime`"
      ]
    },
    {
      "cell_type": "code",
      "execution_count": 7,
      "metadata": {
        "colab": {
          "base_uri": "https://localhost:8080/"
        },
        "id": "6KS0R4uHxDBG",
        "outputId": "dbd1145e-6187-4ade-9b32-8dd20e51e162"
      },
      "outputs": [
        {
          "name": "stdout",
          "output_type": "stream",
          "text": [
            "+----------+-------------------+-------------+----+--------------------+---------------+----------+--------+\n",
            "|AppVersion|      EventDateTime|    EventName|Item|            Location|MobileBrandName| SessionID|  Source|\n",
            "+----------+-------------------+-------------+----+--------------------+---------------+----------+--------+\n",
            "|     2.1.7|2023-08-28 15:02:42|session_start|  []|{Bien Hoa, Vietna...|          Apple|1693234962|(direct)|\n",
            "|     2.1.7|2023-08-28 06:35:51|    view_cart|  []|{Buon Ma Thuot, V...|          Apple|1693204441|(direct)|\n",
            "|     2.1.8|2023-08-28 14:38:38|session_start|  []|{Ho Chi Minh City...|          Apple|1693233518|(direct)|\n",
            "|     2.1.7|2023-08-28 06:29:58|session_start|  []|{Ho Chi Minh City...|          Apple|1693204198|(direct)|\n",
            "|     2.1.7|2023-08-28 13:17:23|session_start|  []|{Ho Chi Minh City...|          Apple|1693228643|(direct)|\n",
            "|     2.1.7|2023-08-28 07:16:56|session_start|  []|{, Vietnam, Kien ...|          Apple|1693207016|(direct)|\n",
            "|     2.1.7|2023-08-28 13:07:14|session_start|  []|{Hanoi, Vietnam, ...|          Apple|1693228034|(direct)|\n",
            "|     2.1.7|2023-08-28 03:40:16|session_start|  []|{Hanoi, Vietnam, ...|          Apple|1693194016|(direct)|\n",
            "|     2.1.7|2023-08-28 03:51:11|session_start|  []|{Ho Chi Minh City...|          Apple|1693194671|(direct)|\n",
            "|     2.1.7|2023-08-28 08:31:42|session_start|  []|{Vinh Long, Vietn...|          Apple|1693211502|     sms|\n",
            "|     2.1.7|2023-08-28 04:04:37|session_start|  []|{Phu Tho, Vietnam...|          Apple|1693195477|     Box|\n",
            "|     2.1.6|2023-08-28 05:38:28|session_start|  []|{Hanoi, Vietnam, ...|          Apple|1693201108|Facebook|\n",
            "|     2.1.7|2023-08-28 03:23:20|session_start|  []|{Haiphong, Vietna...|          Apple|1693193000|(direct)|\n",
            "|     2.1.8|2023-08-28 15:54:59|session_start|  []|{Hanoi, Vietnam, ...|          Apple|1693238099|     sms|\n",
            "|     2.1.7|2023-08-28 03:45:18|session_start|  []|{Hanoi, Vietnam, ...|          Apple|1693194318|(direct)|\n",
            "|     2.1.7|2023-08-28 09:39:07|session_start|  []|{Ho Chi Minh City...|          Apple|1693215547|     sms|\n",
            "|     2.1.7|2023-08-28 02:19:07|session_start|  []|{Ho Chi Minh City...|          Apple|1693189147|(direct)|\n",
            "|     2.1.7|2023-08-28 12:01:09|session_start|  []|{Ho Chi Minh City...|          Apple|1693224069|(direct)|\n",
            "|     2.1.7|2023-08-28 09:23:13|session_start|  []|{Hanoi, Vietnam, ...|          Apple|1693214593|     sms|\n",
            "|     2.1.7|2023-08-28 03:54:57|session_start|  []|{Ho Chi Minh City...|          Apple|1693194897|Facebook|\n",
            "+----------+-------------------+-------------+----+--------------------+---------------+----------+--------+\n",
            "only showing top 20 rows\n",
            "\n"
          ]
        }
      ],
      "source": [
        "from pyspark.sql.functions import to_timestamp\n",
        "df = df.withColumn(\"EventDateTime\", to_timestamp(\"EventDateTime\", \"dd-MM-yyyy HH:mm:ss\"))\n",
        "df.show()"
      ]
    },
    {
      "cell_type": "markdown",
      "metadata": {
        "id": "73B08e4j0cbU"
      },
      "source": [
        "### **Step 2:** Normalize `Location`"
      ]
    },
    {
      "cell_type": "code",
      "execution_count": 8,
      "metadata": {
        "colab": {
          "base_uri": "https://localhost:8080/"
        },
        "id": "jps7iQE3y6Dw",
        "outputId": "b3dc1524-f09c-4b11-8ed6-cce9f32bb6df"
      },
      "outputs": [
        {
          "name": "stdout",
          "output_type": "stream",
          "text": [
            "+----------+-------------------+-------------+----+----------------+-------+----------------+---------------+----------+--------+\n",
            "|AppVersion|      EventDateTime|    EventName|Item|            City|Country|          Region|MobileBrandName| SessionID|  Source|\n",
            "+----------+-------------------+-------------+----+----------------+-------+----------------+---------------+----------+--------+\n",
            "|     2.1.7|2023-08-28 15:02:42|session_start|  []|        Bien Hoa|Vietnam|        Dong Nai|          Apple|1693234962|(direct)|\n",
            "|     2.1.7|2023-08-28 06:35:51|    view_cart|  []|   Buon Ma Thuot|Vietnam|         Dak Lak|          Apple|1693204441|(direct)|\n",
            "|     2.1.8|2023-08-28 14:38:38|session_start|  []|Ho Chi Minh City|Vietnam|Ho Chi Minh City|          Apple|1693233518|(direct)|\n",
            "|     2.1.7|2023-08-28 06:29:58|session_start|  []|Ho Chi Minh City|Vietnam|Ho Chi Minh City|          Apple|1693204198|(direct)|\n",
            "|     2.1.7|2023-08-28 13:17:23|session_start|  []|Ho Chi Minh City|Vietnam|Ho Chi Minh City|          Apple|1693228643|(direct)|\n",
            "+----------+-------------------+-------------+----+----------------+-------+----------------+---------------+----------+--------+\n",
            "only showing top 5 rows\n",
            "\n"
          ]
        }
      ],
      "source": [
        "df = df.selectExpr(\"AppVersion\", \"EventDateTime\", \"EventName\", \"Item\",\n",
        "                   \"Location.City as City\", \"Location.Country as Country\", \"Location.Region as Region\",\n",
        "                   \"MobileBrandName\", \"SessionID\", \"Source\")\n",
        "df.show(5)"
      ]
    },
    {
      "cell_type": "markdown",
      "metadata": {
        "id": "IR8-43xtXq-I"
      },
      "source": [
        "### **Step 3:** Filter `Country` == \"Vietnam\""
      ]
    },
    {
      "cell_type": "code",
      "execution_count": 9,
      "metadata": {
        "colab": {
          "base_uri": "https://localhost:8080/"
        },
        "id": "6rT1XZR0YIno",
        "outputId": "e59d1648-12e9-4bf6-dd16-0a65bc07530c"
      },
      "outputs": [
        {
          "name": "stdout",
          "output_type": "stream",
          "text": [
            "+----------+-------------------+-------------+----+----------------+-------+----------------+---------------+----------+--------+\n",
            "|AppVersion|      EventDateTime|    EventName|Item|            City|Country|          Region|MobileBrandName| SessionID|  Source|\n",
            "+----------+-------------------+-------------+----+----------------+-------+----------------+---------------+----------+--------+\n",
            "|     2.1.7|2023-08-28 15:02:42|session_start|  []|        Bien Hoa|Vietnam|        Dong Nai|          Apple|1693234962|(direct)|\n",
            "|     2.1.7|2023-08-28 06:35:51|    view_cart|  []|   Buon Ma Thuot|Vietnam|         Dak Lak|          Apple|1693204441|(direct)|\n",
            "|     2.1.8|2023-08-28 14:38:38|session_start|  []|Ho Chi Minh City|Vietnam|Ho Chi Minh City|          Apple|1693233518|(direct)|\n",
            "|     2.1.7|2023-08-28 06:29:58|session_start|  []|Ho Chi Minh City|Vietnam|Ho Chi Minh City|          Apple|1693204198|(direct)|\n",
            "|     2.1.7|2023-08-28 13:17:23|session_start|  []|Ho Chi Minh City|Vietnam|Ho Chi Minh City|          Apple|1693228643|(direct)|\n",
            "+----------+-------------------+-------------+----+----------------+-------+----------------+---------------+----------+--------+\n",
            "only showing top 5 rows\n",
            "\n"
          ]
        }
      ],
      "source": [
        "df = df.filter(col(\"Country\") == \"Vietnam\")\n",
        "df.show(5)"
      ]
    },
    {
      "cell_type": "code",
      "execution_count": 10,
      "metadata": {
        "id": "UVPdCM0zD5in"
      },
      "outputs": [],
      "source": [
        "# Filter out rows where Region is empty\n",
        "df = df.filter(col(\"Region\") != \"\")\n",
        "\n",
        "# Drop the Country column\n",
        "df = df.drop(\"Country\")"
      ]
    },
    {
      "cell_type": "code",
      "execution_count": 11,
      "metadata": {
        "colab": {
          "base_uri": "https://localhost:8080/"
        },
        "id": "xfYMYDHQYbLV",
        "outputId": "b25dc0b4-d750-4f99-f6bc-f362ecf950dd"
      },
      "outputs": [
        {
          "name": "stdout",
          "output_type": "stream",
          "text": [
            "Shape: (440560, 9)\n"
          ]
        }
      ],
      "source": [
        "num_rows = df.count()\n",
        "num_cols = len(df.columns)\n",
        "print(f\"Shape: ({num_rows}, {num_cols})\")"
      ]
    },
    {
      "cell_type": "markdown",
      "metadata": {
        "id": "Os4mhZwFZ8cl"
      },
      "source": [
        "### **Step 4:** Check Missing Values"
      ]
    },
    {
      "cell_type": "code",
      "execution_count": 12,
      "metadata": {
        "colab": {
          "base_uri": "https://localhost:8080/"
        },
        "id": "5iKy9q2-Z7fk",
        "outputId": "18e78d2b-6e70-4a21-d267-6e4ef4fc1ce5"
      },
      "outputs": [
        {
          "name": "stdout",
          "output_type": "stream",
          "text": [
            "+------------------+---------------------+-----------------+------------+------------+--------------+-----------------------+-----------------+--------------+\n",
            "|AppVersion_missing|EventDateTime_missing|EventName_missing|Item_missing|City_missing|Region_missing|MobileBrandName_missing|SessionID_missing|Source_missing|\n",
            "+------------------+---------------------+-----------------+------------+------------+--------------+-----------------------+-----------------+--------------+\n",
            "|                 0|                    0|                0|           0|           0|             0|                   6634|                0|             4|\n",
            "+------------------+---------------------+-----------------+------------+------------+--------------+-----------------------+-----------------+--------------+\n",
            "\n"
          ]
        }
      ],
      "source": [
        "from pyspark.sql.functions import sum\n",
        "\n",
        "# Count missing values (nulls) for each column\n",
        "missing_values = df.select(\n",
        "    [sum(col(c).isNull().cast(\"int\")).alias(c + \"_missing\") for c in df.columns]\n",
        ")\n",
        "\n",
        "# Show the result\n",
        "missing_values.show()"
      ]
    },
    {
      "cell_type": "code",
      "execution_count": 13,
      "metadata": {
        "id": "CceeTzeTa4u0"
      },
      "outputs": [],
      "source": [
        "df = df.dropna(subset=[\"MobileBrandName\", \"Source\"])"
      ]
    },
    {
      "cell_type": "code",
      "execution_count": 14,
      "metadata": {
        "colab": {
          "base_uri": "https://localhost:8080/"
        },
        "id": "GFv21QMYbDPT",
        "outputId": "39dfefd9-d56b-4226-cf74-ac2765d045fc"
      },
      "outputs": [
        {
          "name": "stdout",
          "output_type": "stream",
          "text": [
            "Shape: (433922, 9)\n"
          ]
        }
      ],
      "source": [
        "num_rows = df.count()\n",
        "num_cols = len(df.columns)\n",
        "print(f\"Shape: ({num_rows}, {num_cols})\")"
      ]
    },
    {
      "cell_type": "code",
      "execution_count": 15,
      "metadata": {
        "colab": {
          "base_uri": "https://localhost:8080/"
        },
        "id": "O-kBF20wcRnP",
        "outputId": "1f35940e-7f83-444f-8651-9ba46424400f"
      },
      "outputs": [
        {
          "name": "stdout",
          "output_type": "stream",
          "text": [
            "+------------------+---------------------+-----------------+------------+------------+--------------+-----------------------+-----------------+--------------+\n",
            "|AppVersion_missing|EventDateTime_missing|EventName_missing|Item_missing|City_missing|Region_missing|MobileBrandName_missing|SessionID_missing|Source_missing|\n",
            "+------------------+---------------------+-----------------+------------+------------+--------------+-----------------------+-----------------+--------------+\n",
            "|                 0|                    0|                0|           0|           0|             0|                      0|                0|             0|\n",
            "+------------------+---------------------+-----------------+------------+------------+--------------+-----------------------+-----------------+--------------+\n",
            "\n"
          ]
        }
      ],
      "source": [
        "# Count missing values (nulls) for each column\n",
        "missing_values = df.select(\n",
        "    [sum(col(c).isNull().cast(\"int\")).alias(c + \"_missing\") for c in df.columns]\n",
        ")\n",
        "\n",
        "# Show the result\n",
        "missing_values.show()"
      ]
    },
    {
      "cell_type": "markdown",
      "metadata": {
        "id": "NSzsVz4KD5is"
      },
      "source": [
        "### **Step 5:** Check Duplicates"
      ]
    },
    {
      "cell_type": "code",
      "execution_count": 21,
      "metadata": {
        "colab": {
          "base_uri": "https://localhost:8080/"
        },
        "id": "JQsuTLRHD5is",
        "outputId": "3931cc01-6cb8-44ba-d10b-8ff56cb66459"
      },
      "outputs": [
        {
          "name": "stdout",
          "output_type": "stream",
          "text": [
            "19338\n"
          ]
        }
      ],
      "source": [
        "duplicates = df.groupBy(df.columns).count().filter(\"count > 1\")\n",
        "print(duplicates.count())"
      ]
    },
    {
      "cell_type": "code",
      "execution_count": 22,
      "metadata": {
        "id": "nSWTAjTFD5is"
      },
      "outputs": [],
      "source": [
        "df = df.dropDuplicates()"
      ]
    },
    {
      "cell_type": "code",
      "execution_count": 23,
      "metadata": {
        "colab": {
          "base_uri": "https://localhost:8080/"
        },
        "id": "nJM2RXOVD5is",
        "outputId": "5bc5bceb-c9d0-442a-dcd7-f7537ddc1615"
      },
      "outputs": [
        {
          "name": "stdout",
          "output_type": "stream",
          "text": [
            "Shape: (422685, 8)\n"
          ]
        }
      ],
      "source": [
        "num_rows = df.count()\n",
        "num_cols = len(df.columns)\n",
        "print(f\"Shape: ({num_rows}, {num_cols})\")"
      ]
    },
    {
      "cell_type": "code",
      "execution_count": 24,
      "metadata": {
        "colab": {
          "base_uri": "https://localhost:8080/"
        },
        "id": "gHoNOlKnD5is",
        "outputId": "ceb3a215-324c-4728-f978-f1dd5a229611"
      },
      "outputs": [
        {
          "name": "stdout",
          "output_type": "stream",
          "text": [
            "root\n",
            " |-- AppVersion: string (nullable = true)\n",
            " |-- EventDateTime: string (nullable = true)\n",
            " |-- EventName: string (nullable = true)\n",
            " |-- Item: array (nullable = true)\n",
            " |    |-- element: struct (containsNull = true)\n",
            " |    |    |-- ItemCategory: string (nullable = true)\n",
            " |    |    |-- ItemName: string (nullable = true)\n",
            " |-- Location: struct (nullable = true)\n",
            " |    |-- City: string (nullable = true)\n",
            " |    |-- Country: string (nullable = true)\n",
            " |    |-- Region: string (nullable = true)\n",
            " |-- MobileBrandName: string (nullable = true)\n",
            " |-- SessionID: string (nullable = true)\n",
            " |-- Source: string (nullable = true)\n",
            "\n"
          ]
        }
      ],
      "source": [
        "df.printSchema()"
      ]
    },
    {
      "cell_type": "code",
      "execution_count": 25,
      "metadata": {
        "colab": {
          "base_uri": "https://localhost:8080/"
        },
        "id": "01kPDrJ6D5is",
        "outputId": "3d1618c1-5c68-428a-899c-69d6b3b45722"
      },
      "outputs": [
        {
          "name": "stdout",
          "output_type": "stream",
          "text": [
            "+----------+-------------------+-------------+--------------------+--------------------+---------------+----------+--------------+\n",
            "|AppVersion|      EventDateTime|    EventName|                Item|            Location|MobileBrandName| SessionID|        Source|\n",
            "+----------+-------------------+-------------+--------------------+--------------------+---------------+----------+--------------+\n",
            "|     2.1.7|28-08-2023 03:50:44|session_start|                  []|{Ho Chi Minh City...|          Apple|1693194644|      (direct)|\n",
            "|     2.1.7|28-08-2023 06:35:46|    view_cart|[{combo, FREE SEC...|{Buon Ma Thuot, V...|          Apple|1693204441|      (direct)|\n",
            "|     2.1.7|28-08-2023 18:00:37|session_start|                  []|{Hanoi, Vietnam, ...|          Apple|1693159237|           SMS|\n",
            "|   Website|28-08-2023 23:54:39|    page_view|                  []|{Hanoi, Vietnam, ...|          Apple|1693180451|l.facebook.com|\n",
            "|   Website|28-08-2023 13:49:07|session_start|                  []|{Ho Chi Minh City...|          Apple|1693230547|       Loyalty|\n",
            "+----------+-------------------+-------------+--------------------+--------------------+---------------+----------+--------------+\n",
            "only showing top 5 rows\n",
            "\n"
          ]
        }
      ],
      "source": [
        "df.show(5)"
      ]
    },
    {
      "cell_type": "code",
      "execution_count": 26,
      "metadata": {
        "colab": {
          "base_uri": "https://localhost:8080/"
        },
        "id": "22z5vI7Cd_HL",
        "outputId": "be4d75ef-94dc-41f5-ca10-b4b9301a344e"
      },
      "outputs": [
        {
          "name": "stdout",
          "output_type": "stream",
          "text": [
            "+----------+-------------------+--------------+--------------------+---------------+----------+--------------+---------------+--------------------+\n",
            "|AppVersion|      EventDateTime|     EventName|            Location|MobileBrandName| SessionID|        Source|   ItemCategory|            ItemName|\n",
            "+----------+-------------------+--------------+--------------------+---------------+----------+--------------+---------------+--------------------+\n",
            "|     2.1.7|28-08-2023 03:50:44| session_start|{Ho Chi Minh City...|          Apple|1693194644|      (direct)|           NULL|                NULL|\n",
            "|     2.1.7|28-08-2023 06:35:46|     view_cart|{Buon Ma Thuot, V...|          Apple|1693204441|      (direct)|          combo|FREE SECOND PIZZA...|\n",
            "|     2.1.7|28-08-2023 18:00:37| session_start|{Hanoi, Vietnam, ...|          Apple|1693159237|           SMS|           NULL|                NULL|\n",
            "|   Website|28-08-2023 23:54:39|     page_view|{Hanoi, Vietnam, ...|          Apple|1693180451|l.facebook.com|           NULL|                NULL|\n",
            "|   Website|28-08-2023 13:49:07| session_start|{Ho Chi Minh City...|          Apple|1693230547|       Loyalty|           NULL|                NULL|\n",
            "|   Website|28-08-2023 07:28:13| session_start|{Haiphong, Vietna...|        Samsung|1693207695|203.205.21.132|           NULL|                NULL|\n",
            "|   Website|28-08-2023 22:01:10|     page_view|{Ho Chi Minh City...|           Vivo|1693173611|           edm|           NULL|                NULL|\n",
            "|   Website|28-08-2023 16:08:17|     page_view|{Bien Hoa, Vietna...|         Google|1693238897|l.facebook.com|           NULL|                NULL|\n",
            "|   Website|28-08-2023 06:58:20| session_start|{Ho Chi Minh City...|        Samsung|1693205900|l.facebook.com|           NULL|                NULL|\n",
            "|   Website|28-08-2023 05:27:00|     page_view|{Ho Chi Minh City...|          Apple|1693200420|        google|           NULL|                NULL|\n",
            "|   Website|28-08-2023 11:36:42|     page_view|{Ho Chi Minh City...|          Apple|1693222078|        google|           NULL|                NULL|\n",
            "|   Website|28-08-2023 10:07:19|begin_checkout|{Nam Djinh, Vietn...|          Apple|1693216853|        google|          pizza|CHEESE CRUST HALF...|\n",
            "|   Website|28-08-2023 09:28:39|     view_item|{Hai Duong, Vietn...|          Apple|1693214840|        google|FREESECONDPIZZA|FREE SECOND PIZZA...|\n",
            "|   Website|28-08-2023 10:31:59|     page_view|{Hai Duong, Vietn...|          Apple|1693218718|        google|           NULL|                NULL|\n",
            "|   Website|28-08-2023 11:15:33|     page_view|{Son Tay, Vietnam...|          Apple|1693221157|        google|           NULL|                NULL|\n",
            "|   Website|28-08-2023 05:07:44|     page_view|{Bien Hoa, Vietna...|          Apple|1693199215|        google|           NULL|                NULL|\n",
            "|   Website|28-08-2023 04:46:59|     page_view|{Son Tay, Vietnam...|          Apple|1693197663|        google|           NULL|                NULL|\n",
            "|   Website|28-08-2023 11:06:55|     page_view|{Ho Chi Minh City...|          Apple|1693220272|        google|           NULL|                NULL|\n",
            "|   Website|28-08-2023 10:23:14|     view_item|{Ho Chi Minh City...|          Apple|1693218157|        google|FREESECONDPIZZA|FREE SECOND PIZZA...|\n",
            "|   Website|28-08-2023 12:42:26|     view_item|{Thanh Hoa, Vietn...|          Apple|1693226505|        google|FREESECONDPIZZA|FREE SECOND PIZZA...|\n",
            "+----------+-------------------+--------------+--------------------+---------------+----------+--------------+---------------+--------------------+\n",
            "only showing top 20 rows\n",
            "\n"
          ]
        }
      ],
      "source": [
        "# Define a function to extract item category\n",
        "def get_item_category(item_list):\n",
        "    if item_list and len(item_list) > 0:\n",
        "        return item_list[0].asDict().get('ItemCategory')\n",
        "    return None\n",
        "\n",
        "# Define a UDF for item category\n",
        "get_item_category_udf = udf(get_item_category, StringType())\n",
        "\n",
        "# Define a function to extract item name\n",
        "def get_item_name(item_list):\n",
        "    if item_list and len(item_list) > 0:\n",
        "        return item_list[0].asDict().get('ItemName')\n",
        "    return None\n",
        "\n",
        "# Define a UDF for item name\n",
        "get_item_name_udf = udf(get_item_name, StringType())\n",
        "\n",
        "# Apply the UDFs to create new columns\n",
        "df = df.withColumn(\"ItemCategory\", get_item_category_udf(col(\"Item\"))) \\\n",
        "                   .withColumn(\"ItemName\", get_item_name_udf(col(\"Item\"))) \\\n",
        "                   .drop(\"Item\") # Drop the original 'Item' column\n",
        "\n",
        "# Show the transformed DataFrame\n",
        "df.show()"
      ]
    },
    {
      "cell_type": "code",
      "execution_count": 27,
      "metadata": {
        "collapsed": true,
        "id": "mH8C_BpaA14g"
      },
      "outputs": [],
      "source": [
        "# Convert the PySpark DataFrame to a Pandas DataFrame\n",
        "df_pd = df.toPandas()\n",
        "\n",
        "# Now you can use to_csv on the Pandas DataFrame\n",
        "df_pd.to_csv('clean_data.csv', index=False)\n",
        "\n",
        "from google.colab import files\n",
        "files.download('clean_data.csv')"
      ]
    }
  ],
  "metadata": {
    "colab": {
      "collapsed_sections": [
        "csfSuLO8gPF4"
      ],
      "provenance": []
    },
    "kernelspec": {
      "display_name": "Python (pyspark_env)",
      "language": "python",
      "name": "pyspark_env"
    },
    "language_info": {
      "codemirror_mode": {
        "name": "ipython",
        "version": 3
      },
      "file_extension": ".py",
      "mimetype": "text/x-python",
      "name": "python",
      "nbconvert_exporter": "python",
      "pygments_lexer": "ipython3",
      "version": "3.10.15"
    }
  },
  "nbformat": 4,
  "nbformat_minor": 0
}
