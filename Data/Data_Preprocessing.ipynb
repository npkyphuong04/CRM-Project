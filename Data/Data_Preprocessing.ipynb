{
  "cells": [
    {
      "cell_type": "markdown",
      "source": [
        "# DO NOT RUN THIS FILE"
      ],
      "metadata": {
        "id": "jd_qKALKDCTW"
      }
    },
    {
      "cell_type": "code",
      "source": [
        "from google.colab import drive\n",
        "drive.mount('/content/drive')"
      ],
      "metadata": {
        "colab": {
          "base_uri": "https://localhost:8080/"
        },
        "id": "Vtzt1-3dFAKt",
        "outputId": "995f0348-df6b-4cfd-cf59-708158bc2412"
      },
      "execution_count": 1,
      "outputs": [
        {
          "output_type": "stream",
          "name": "stdout",
          "text": [
            "Mounted at /content/drive\n"
          ]
        }
      ]
    },
    {
      "cell_type": "markdown",
      "metadata": {
        "id": "XtaUS9erzkRM"
      },
      "source": [
        "# **A. Setup Environment**"
      ]
    },
    {
      "cell_type": "code",
      "execution_count": 2,
      "metadata": {
        "id": "daiqzv7_IuAk"
      },
      "outputs": [],
      "source": [
        "import os\n",
        "from pyspark.sql import SparkSession\n",
        "from pyspark.sql.window import Window\n",
        "from pyspark.sql.functions import*\n",
        "import matplotlib.pyplot as plt\n",
        "import pandas as pd\n",
        "from pyspark.ml import Pipeline\n",
        "from pyspark.ml.feature import StringIndexer, OneHotEncoder, VectorAssembler, StandardScaler\n",
        "from pyspark.ml.clustering import KMeans\n",
        "from pyspark.ml.evaluation import ClusteringEvaluator\n",
        "from pyspark.ml.feature import PCA\n",
        "from pyspark.sql.functions import min as spark_min, max as spark_max\n",
        "from pyspark.sql.functions import explode,  udf,  when, col, sum as spark_sum\n",
        "from pyspark.sql.types import StructType, StructField, StringType, ArrayType\n",
        "from pyspark.sql import functions as F"
      ]
    },
    {
      "cell_type": "code",
      "execution_count": 3,
      "metadata": {
        "id": "MbVT3wXYJz1b",
        "outputId": "f4850cad-aba2-46ca-d01d-68da9e66fc87",
        "colab": {
          "base_uri": "https://localhost:8080/",
          "height": 36
        }
      },
      "outputs": [
        {
          "output_type": "execute_result",
          "data": {
            "text/plain": [
              "'org.apache.spark.serializer.KryoSerializer'"
            ],
            "application/vnd.google.colaboratory.intrinsic+json": {
              "type": "string"
            }
          },
          "metadata": {},
          "execution_count": 3
        }
      ],
      "source": [
        "# Create a new Spark session with optimized configurations\n",
        "spark = (SparkSession.builder\n",
        "         .appName(\"CustomerSegmentationOptimized\")\n",
        "         .config(\"spark.executor.memory\", \"8g\")          # Allocate 8 GB memory to each executor\n",
        "         .config(\"spark.executor.cores\", \"4\")            # Allocate 4 cores to each executor\n",
        "         .config(\"spark.driver.memory\", \"4g\")            # Allocate 4 GB memory to the driver\n",
        "         .config(\"spark.sql.shuffle.partitions\", \"200\")   # Set shuffle partitions to 200\n",
        "         .config(\"spark.serializer\", \"org.apache.spark.serializer.KryoSerializer\")  # Use Kryo serializer for better performance\n",
        "         .getOrCreate())\n",
        "\n",
        "# Verify the new configuration\n",
        "spark.conf.get(\"spark.executor.memory\")       # Should return '8g'\n",
        "spark.conf.get(\"spark.executor.cores\")        # Should return '4'\n",
        "spark.conf.get(\"spark.driver.memory\")         # Should return '4g'\n",
        "spark.conf.get(\"spark.sql.shuffle.partitions\")# Should return '200'\n",
        "spark.conf.get(\"spark.serializer\")            # Should return 'org.apache.spark.serializer.KryoSerializer'"
      ]
    },
    {
      "cell_type": "markdown",
      "metadata": {
        "id": "WVzPcKrUzoVb"
      },
      "source": [
        "# **B. Data Ingestion**"
      ]
    },
    {
      "cell_type": "code",
      "execution_count": 4,
      "metadata": {
        "colab": {
          "base_uri": "https://localhost:8080/"
        },
        "id": "km3mGv1eIu7E",
        "outputId": "2e43ffc2-a7e1-4890-bbea-e7420c6ebfbc"
      },
      "outputs": [
        {
          "output_type": "stream",
          "name": "stdout",
          "text": [
            "+----------+-------------------+-------------+----+--------------------+---------------+----------+--------+\n",
            "|AppVersion|      EventDateTime|    EventName|Item|            Location|MobileBrandName| SessionID|  Source|\n",
            "+----------+-------------------+-------------+----+--------------------+---------------+----------+--------+\n",
            "|     2.1.7|28-08-2023 15:02:42|session_start|  []|{Bien Hoa, Vietna...|          Apple|1693234962|(direct)|\n",
            "|     2.1.7|28-08-2023 06:35:51|    view_cart|  []|{Buon Ma Thuot, V...|          Apple|1693204441|(direct)|\n",
            "|     2.1.8|28-08-2023 14:38:38|session_start|  []|{Ho Chi Minh City...|          Apple|1693233518|(direct)|\n",
            "|     2.1.7|28-08-2023 06:29:58|session_start|  []|{Ho Chi Minh City...|          Apple|1693204198|(direct)|\n",
            "|     2.1.7|28-08-2023 13:17:23|session_start|  []|{Ho Chi Minh City...|          Apple|1693228643|(direct)|\n",
            "+----------+-------------------+-------------+----+--------------------+---------------+----------+--------+\n",
            "only showing top 5 rows\n",
            "\n"
          ]
        }
      ],
      "source": [
        "file_path = \"/content/drive/MyDrive/Course/Information system management/PHVN_DATest_Dataset.json\"\n",
        "df = spark.read.json(file_path)\n",
        "\n",
        "df.show(5)"
      ]
    },
    {
      "cell_type": "code",
      "execution_count": 5,
      "metadata": {
        "colab": {
          "base_uri": "https://localhost:8080/"
        },
        "id": "q3QcTnkjJ6mg",
        "outputId": "bfbb50e9-d1b9-4d8b-d6ed-35a4b3b87fd4"
      },
      "outputs": [
        {
          "output_type": "stream",
          "name": "stdout",
          "text": [
            "root\n",
            " |-- AppVersion: string (nullable = true)\n",
            " |-- EventDateTime: string (nullable = true)\n",
            " |-- EventName: string (nullable = true)\n",
            " |-- Item: array (nullable = true)\n",
            " |    |-- element: struct (containsNull = true)\n",
            " |    |    |-- ItemCategory: string (nullable = true)\n",
            " |    |    |-- ItemName: string (nullable = true)\n",
            " |-- Location: struct (nullable = true)\n",
            " |    |-- City: string (nullable = true)\n",
            " |    |-- Country: string (nullable = true)\n",
            " |    |-- Region: string (nullable = true)\n",
            " |-- MobileBrandName: string (nullable = true)\n",
            " |-- SessionID: string (nullable = true)\n",
            " |-- Source: string (nullable = true)\n",
            "\n"
          ]
        }
      ],
      "source": [
        "df.printSchema()"
      ]
    },
    {
      "cell_type": "code",
      "execution_count": 6,
      "metadata": {
        "id": "uX-UmR5ZD5ik",
        "outputId": "7edfd4a2-35e5-4d8f-c055-a3cda4a471f5",
        "colab": {
          "base_uri": "https://localhost:8080/"
        }
      },
      "outputs": [
        {
          "output_type": "stream",
          "name": "stdout",
          "text": [
            "Shape: (443711, 8)\n"
          ]
        }
      ],
      "source": [
        "num_rows = df.count()\n",
        "num_cols = len(df.columns)\n",
        "print(f\"Shape: ({num_rows}, {num_cols})\")"
      ]
    },
    {
      "cell_type": "markdown",
      "metadata": {
        "id": "6x5Dm_zFzTw5"
      },
      "source": [
        "# **C. Data Preprocessing**"
      ]
    },
    {
      "cell_type": "markdown",
      "metadata": {
        "id": "ERXReCW9zZyM"
      },
      "source": [
        "### **Step 1:** Parse `EventDateTime`"
      ]
    },
    {
      "cell_type": "code",
      "execution_count": 7,
      "metadata": {
        "colab": {
          "base_uri": "https://localhost:8080/"
        },
        "id": "6KS0R4uHxDBG",
        "outputId": "4f72d737-589f-435d-d3e8-57dd80a76cc8"
      },
      "outputs": [
        {
          "output_type": "stream",
          "name": "stdout",
          "text": [
            "+----------+-------------------+-------------+----+--------------------+---------------+----------+--------+\n",
            "|AppVersion|      EventDateTime|    EventName|Item|            Location|MobileBrandName| SessionID|  Source|\n",
            "+----------+-------------------+-------------+----+--------------------+---------------+----------+--------+\n",
            "|     2.1.7|2023-08-28 15:02:42|session_start|  []|{Bien Hoa, Vietna...|          Apple|1693234962|(direct)|\n",
            "|     2.1.7|2023-08-28 06:35:51|    view_cart|  []|{Buon Ma Thuot, V...|          Apple|1693204441|(direct)|\n",
            "|     2.1.8|2023-08-28 14:38:38|session_start|  []|{Ho Chi Minh City...|          Apple|1693233518|(direct)|\n",
            "|     2.1.7|2023-08-28 06:29:58|session_start|  []|{Ho Chi Minh City...|          Apple|1693204198|(direct)|\n",
            "|     2.1.7|2023-08-28 13:17:23|session_start|  []|{Ho Chi Minh City...|          Apple|1693228643|(direct)|\n",
            "|     2.1.7|2023-08-28 07:16:56|session_start|  []|{, Vietnam, Kien ...|          Apple|1693207016|(direct)|\n",
            "|     2.1.7|2023-08-28 13:07:14|session_start|  []|{Hanoi, Vietnam, ...|          Apple|1693228034|(direct)|\n",
            "|     2.1.7|2023-08-28 03:40:16|session_start|  []|{Hanoi, Vietnam, ...|          Apple|1693194016|(direct)|\n",
            "|     2.1.7|2023-08-28 03:51:11|session_start|  []|{Ho Chi Minh City...|          Apple|1693194671|(direct)|\n",
            "|     2.1.7|2023-08-28 08:31:42|session_start|  []|{Vinh Long, Vietn...|          Apple|1693211502|     sms|\n",
            "|     2.1.7|2023-08-28 04:04:37|session_start|  []|{Phu Tho, Vietnam...|          Apple|1693195477|     Box|\n",
            "|     2.1.6|2023-08-28 05:38:28|session_start|  []|{Hanoi, Vietnam, ...|          Apple|1693201108|Facebook|\n",
            "|     2.1.7|2023-08-28 03:23:20|session_start|  []|{Haiphong, Vietna...|          Apple|1693193000|(direct)|\n",
            "|     2.1.8|2023-08-28 15:54:59|session_start|  []|{Hanoi, Vietnam, ...|          Apple|1693238099|     sms|\n",
            "|     2.1.7|2023-08-28 03:45:18|session_start|  []|{Hanoi, Vietnam, ...|          Apple|1693194318|(direct)|\n",
            "|     2.1.7|2023-08-28 09:39:07|session_start|  []|{Ho Chi Minh City...|          Apple|1693215547|     sms|\n",
            "|     2.1.7|2023-08-28 02:19:07|session_start|  []|{Ho Chi Minh City...|          Apple|1693189147|(direct)|\n",
            "|     2.1.7|2023-08-28 12:01:09|session_start|  []|{Ho Chi Minh City...|          Apple|1693224069|(direct)|\n",
            "|     2.1.7|2023-08-28 09:23:13|session_start|  []|{Hanoi, Vietnam, ...|          Apple|1693214593|     sms|\n",
            "|     2.1.7|2023-08-28 03:54:57|session_start|  []|{Ho Chi Minh City...|          Apple|1693194897|Facebook|\n",
            "+----------+-------------------+-------------+----+--------------------+---------------+----------+--------+\n",
            "only showing top 20 rows\n",
            "\n"
          ]
        }
      ],
      "source": [
        "from pyspark.sql.functions import to_timestamp\n",
        "df = df.withColumn(\"EventDateTime\", to_timestamp(\"EventDateTime\", \"dd-MM-yyyy HH:mm:ss\"))\n",
        "df.show()"
      ]
    },
    {
      "cell_type": "markdown",
      "metadata": {
        "id": "73B08e4j0cbU"
      },
      "source": [
        "### **Step 2:** Normalize `Location`"
      ]
    },
    {
      "cell_type": "code",
      "execution_count": 8,
      "metadata": {
        "colab": {
          "base_uri": "https://localhost:8080/"
        },
        "id": "jps7iQE3y6Dw",
        "outputId": "12069db7-15a2-44ea-8e23-aeb4a2bc030b"
      },
      "outputs": [
        {
          "output_type": "stream",
          "name": "stdout",
          "text": [
            "+----------+-------------------+-------------+----+----------------+-------+----------------+---------------+----------+--------+\n",
            "|AppVersion|      EventDateTime|    EventName|Item|            City|Country|          Region|MobileBrandName| SessionID|  Source|\n",
            "+----------+-------------------+-------------+----+----------------+-------+----------------+---------------+----------+--------+\n",
            "|     2.1.7|2023-08-28 15:02:42|session_start|  []|        Bien Hoa|Vietnam|        Dong Nai|          Apple|1693234962|(direct)|\n",
            "|     2.1.7|2023-08-28 06:35:51|    view_cart|  []|   Buon Ma Thuot|Vietnam|         Dak Lak|          Apple|1693204441|(direct)|\n",
            "|     2.1.8|2023-08-28 14:38:38|session_start|  []|Ho Chi Minh City|Vietnam|Ho Chi Minh City|          Apple|1693233518|(direct)|\n",
            "|     2.1.7|2023-08-28 06:29:58|session_start|  []|Ho Chi Minh City|Vietnam|Ho Chi Minh City|          Apple|1693204198|(direct)|\n",
            "|     2.1.7|2023-08-28 13:17:23|session_start|  []|Ho Chi Minh City|Vietnam|Ho Chi Minh City|          Apple|1693228643|(direct)|\n",
            "+----------+-------------------+-------------+----+----------------+-------+----------------+---------------+----------+--------+\n",
            "only showing top 5 rows\n",
            "\n"
          ]
        }
      ],
      "source": [
        "df = df.selectExpr(\"AppVersion\", \"EventDateTime\", \"EventName\", \"Item\",\n",
        "                   \"Location.City as City\", \"Location.Country as Country\", \"Location.Region as Region\",\n",
        "                   \"MobileBrandName\", \"SessionID\", \"Source\")\n",
        "df.show(5)"
      ]
    },
    {
      "cell_type": "markdown",
      "metadata": {
        "id": "IR8-43xtXq-I"
      },
      "source": [
        "### **Step 3:** Filter `Country` == \"Vietnam\""
      ]
    },
    {
      "cell_type": "code",
      "execution_count": 9,
      "metadata": {
        "colab": {
          "base_uri": "https://localhost:8080/"
        },
        "id": "6rT1XZR0YIno",
        "outputId": "e7c89556-b091-4b05-d30d-510849c5f5b5"
      },
      "outputs": [
        {
          "output_type": "stream",
          "name": "stdout",
          "text": [
            "+----------+-------------------+-------------+----+----------------+-------+----------------+---------------+----------+--------+\n",
            "|AppVersion|      EventDateTime|    EventName|Item|            City|Country|          Region|MobileBrandName| SessionID|  Source|\n",
            "+----------+-------------------+-------------+----+----------------+-------+----------------+---------------+----------+--------+\n",
            "|     2.1.7|2023-08-28 15:02:42|session_start|  []|        Bien Hoa|Vietnam|        Dong Nai|          Apple|1693234962|(direct)|\n",
            "|     2.1.7|2023-08-28 06:35:51|    view_cart|  []|   Buon Ma Thuot|Vietnam|         Dak Lak|          Apple|1693204441|(direct)|\n",
            "|     2.1.8|2023-08-28 14:38:38|session_start|  []|Ho Chi Minh City|Vietnam|Ho Chi Minh City|          Apple|1693233518|(direct)|\n",
            "|     2.1.7|2023-08-28 06:29:58|session_start|  []|Ho Chi Minh City|Vietnam|Ho Chi Minh City|          Apple|1693204198|(direct)|\n",
            "|     2.1.7|2023-08-28 13:17:23|session_start|  []|Ho Chi Minh City|Vietnam|Ho Chi Minh City|          Apple|1693228643|(direct)|\n",
            "+----------+-------------------+-------------+----+----------------+-------+----------------+---------------+----------+--------+\n",
            "only showing top 5 rows\n",
            "\n"
          ]
        }
      ],
      "source": [
        "df = df.filter(col(\"Country\") == \"Vietnam\")\n",
        "df.show(5)"
      ]
    },
    {
      "cell_type": "code",
      "execution_count": 10,
      "metadata": {
        "id": "UVPdCM0zD5in"
      },
      "outputs": [],
      "source": [
        "# Filter out rows where Region is empty\n",
        "df = df.filter(col(\"Region\") != \"\")\n",
        "\n",
        "# Drop the Country column\n",
        "df = df.drop(\"Country\")"
      ]
    },
    {
      "cell_type": "code",
      "execution_count": 11,
      "metadata": {
        "id": "xfYMYDHQYbLV",
        "colab": {
          "base_uri": "https://localhost:8080/"
        },
        "outputId": "77f3f68c-0b79-4937-a436-7a3e14a448be"
      },
      "outputs": [
        {
          "output_type": "stream",
          "name": "stdout",
          "text": [
            "Shape: (440560, 9)\n"
          ]
        }
      ],
      "source": [
        "num_rows = df.count()\n",
        "num_cols = len(df.columns)\n",
        "print(f\"Shape: ({num_rows}, {num_cols})\")"
      ]
    },
    {
      "cell_type": "markdown",
      "metadata": {
        "id": "Os4mhZwFZ8cl"
      },
      "source": [
        "### **Step 4:** Check Missing Values"
      ]
    },
    {
      "cell_type": "code",
      "execution_count": 12,
      "metadata": {
        "id": "5iKy9q2-Z7fk",
        "colab": {
          "base_uri": "https://localhost:8080/"
        },
        "outputId": "4e53297b-e358-4eeb-ad16-c33291e88388"
      },
      "outputs": [
        {
          "output_type": "stream",
          "name": "stdout",
          "text": [
            "+------------------+---------------------+-----------------+------------+------------+--------------+-----------------------+-----------------+--------------+\n",
            "|AppVersion_missing|EventDateTime_missing|EventName_missing|Item_missing|City_missing|Region_missing|MobileBrandName_missing|SessionID_missing|Source_missing|\n",
            "+------------------+---------------------+-----------------+------------+------------+--------------+-----------------------+-----------------+--------------+\n",
            "|                 0|                    0|                0|           0|           0|             0|                   6634|                0|             4|\n",
            "+------------------+---------------------+-----------------+------------+------------+--------------+-----------------------+-----------------+--------------+\n",
            "\n"
          ]
        }
      ],
      "source": [
        "from pyspark.sql.functions import sum\n",
        "\n",
        "# Count missing values (nulls) for each column\n",
        "missing_values = df.select(\n",
        "    [sum(col(c).isNull().cast(\"int\")).alias(c + \"_missing\") for c in df.columns]\n",
        ")\n",
        "\n",
        "# Show the result\n",
        "missing_values.show()"
      ]
    },
    {
      "cell_type": "code",
      "execution_count": 13,
      "metadata": {
        "id": "CceeTzeTa4u0"
      },
      "outputs": [],
      "source": [
        "df = df.dropna(subset=[\"MobileBrandName\", \"Source\"])"
      ]
    },
    {
      "cell_type": "code",
      "execution_count": 14,
      "metadata": {
        "id": "GFv21QMYbDPT",
        "colab": {
          "base_uri": "https://localhost:8080/"
        },
        "outputId": "8ea3dfff-4ecc-45e5-ae22-4c03d921aa24"
      },
      "outputs": [
        {
          "output_type": "stream",
          "name": "stdout",
          "text": [
            "Shape: (433922, 9)\n"
          ]
        }
      ],
      "source": [
        "num_rows = df.count()\n",
        "num_cols = len(df.columns)\n",
        "print(f\"Shape: ({num_rows}, {num_cols})\")"
      ]
    },
    {
      "cell_type": "code",
      "execution_count": 15,
      "metadata": {
        "id": "O-kBF20wcRnP",
        "colab": {
          "base_uri": "https://localhost:8080/"
        },
        "outputId": "7b729940-2126-494d-f5d6-0f1393606139"
      },
      "outputs": [
        {
          "output_type": "stream",
          "name": "stdout",
          "text": [
            "+------------------+---------------------+-----------------+------------+------------+--------------+-----------------------+-----------------+--------------+\n",
            "|AppVersion_missing|EventDateTime_missing|EventName_missing|Item_missing|City_missing|Region_missing|MobileBrandName_missing|SessionID_missing|Source_missing|\n",
            "+------------------+---------------------+-----------------+------------+------------+--------------+-----------------------+-----------------+--------------+\n",
            "|                 0|                    0|                0|           0|           0|             0|                      0|                0|             0|\n",
            "+------------------+---------------------+-----------------+------------+------------+--------------+-----------------------+-----------------+--------------+\n",
            "\n"
          ]
        }
      ],
      "source": [
        "# Count missing values (nulls) for each column\n",
        "missing_values = df.select(\n",
        "    [sum(col(c).isNull().cast(\"int\")).alias(c + \"_missing\") for c in df.columns]\n",
        ")\n",
        "\n",
        "# Show the result\n",
        "missing_values.show()"
      ]
    },
    {
      "cell_type": "markdown",
      "metadata": {
        "id": "NSzsVz4KD5is"
      },
      "source": [
        "### **Step 5:** Check Duplicates"
      ]
    },
    {
      "cell_type": "code",
      "execution_count": 16,
      "metadata": {
        "id": "JQsuTLRHD5is",
        "colab": {
          "base_uri": "https://localhost:8080/"
        },
        "outputId": "455edcdf-1cde-493c-e524-6719df8d9644"
      },
      "outputs": [
        {
          "output_type": "stream",
          "name": "stdout",
          "text": [
            "18864\n"
          ]
        }
      ],
      "source": [
        "duplicates = df.groupBy(df.columns).count().filter(\"count > 1\")\n",
        "print(duplicates.count())"
      ]
    },
    {
      "cell_type": "code",
      "execution_count": 17,
      "metadata": {
        "id": "nSWTAjTFD5is"
      },
      "outputs": [],
      "source": [
        "df = df.dropDuplicates()"
      ]
    },
    {
      "cell_type": "code",
      "execution_count": 18,
      "metadata": {
        "id": "nJM2RXOVD5is",
        "outputId": "dfb7e82d-711b-4152-b7ce-f806ab4ab807",
        "colab": {
          "base_uri": "https://localhost:8080/"
        }
      },
      "outputs": [
        {
          "output_type": "stream",
          "name": "stdout",
          "text": [
            "Shape: (413425, 9)\n"
          ]
        }
      ],
      "source": [
        "num_rows = df.count()\n",
        "num_cols = len(df.columns)\n",
        "print(f\"Shape: ({num_rows}, {num_cols})\")"
      ]
    },
    {
      "cell_type": "code",
      "execution_count": 19,
      "metadata": {
        "id": "gHoNOlKnD5is",
        "colab": {
          "base_uri": "https://localhost:8080/"
        },
        "outputId": "f906e4af-6ab2-4947-d5a9-bfa90a528148"
      },
      "outputs": [
        {
          "output_type": "stream",
          "name": "stdout",
          "text": [
            "root\n",
            " |-- AppVersion: string (nullable = true)\n",
            " |-- EventDateTime: timestamp (nullable = true)\n",
            " |-- EventName: string (nullable = true)\n",
            " |-- Item: array (nullable = true)\n",
            " |    |-- element: struct (containsNull = true)\n",
            " |    |    |-- ItemCategory: string (nullable = true)\n",
            " |    |    |-- ItemName: string (nullable = true)\n",
            " |-- City: string (nullable = true)\n",
            " |-- Region: string (nullable = true)\n",
            " |-- MobileBrandName: string (nullable = true)\n",
            " |-- SessionID: string (nullable = true)\n",
            " |-- Source: string (nullable = true)\n",
            "\n"
          ]
        }
      ],
      "source": [
        "df.printSchema()"
      ]
    },
    {
      "cell_type": "code",
      "execution_count": 20,
      "metadata": {
        "id": "01kPDrJ6D5is",
        "colab": {
          "base_uri": "https://localhost:8080/"
        },
        "outputId": "6bf015f1-6d13-4920-91eb-de56803ca66c"
      },
      "outputs": [
        {
          "output_type": "stream",
          "name": "stdout",
          "text": [
            "+----------+-------------------+-------------+----+----------------+----------------+---------------+----------+--------+\n",
            "|AppVersion|      EventDateTime|    EventName|Item|            City|          Region|MobileBrandName| SessionID|  Source|\n",
            "+----------+-------------------+-------------+----+----------------+----------------+---------------+----------+--------+\n",
            "|     2.1.7|2023-08-28 13:07:14|session_start|  []|           Hanoi|           Hanoi|          Apple|1693228034|(direct)|\n",
            "|     2.1.7|2023-08-28 03:50:44|session_start|  []|Ho Chi Minh City|Ho Chi Minh City|          Apple|1693194644|(direct)|\n",
            "|   Website|2023-08-28 10:29:47|    page_view|  []|Ho Chi Minh City|Ho Chi Minh City|         Xiaomi|1693218578|FACEBOOK|\n",
            "|   Website|2023-08-28 04:50:27|session_start|  []|Ho Chi Minh City|Ho Chi Minh City|          Apple|1693198227|     sms|\n",
            "|     2.1.7|2023-08-28 05:04:53|session_start|  []|Ho Chi Minh City|Ho Chi Minh City|          Apple|1693199093|  google|\n",
            "+----------+-------------------+-------------+----+----------------+----------------+---------------+----------+--------+\n",
            "only showing top 5 rows\n",
            "\n"
          ]
        }
      ],
      "source": [
        "df.show(5)"
      ]
    },
    {
      "cell_type": "code",
      "source": [
        "# Define a function to extract item category\n",
        "def get_item_category(item_list):\n",
        "    if item_list and len(item_list) > 0:\n",
        "        return item_list[0].asDict().get('ItemCategory')\n",
        "    return None\n",
        "\n",
        "# Define a UDF for item category\n",
        "get_item_category_udf = udf(get_item_category, StringType())\n",
        "\n",
        "# Define a function to extract item name\n",
        "def get_item_name(item_list):\n",
        "    if item_list and len(item_list) > 0:\n",
        "        return item_list[0].asDict().get('ItemName')\n",
        "    return None\n",
        "\n",
        "# Define a UDF for item name\n",
        "get_item_name_udf = udf(get_item_name, StringType())\n",
        "\n",
        "# Apply the UDFs to create new columns\n",
        "df = df.withColumn(\"ItemCategory\", get_item_category_udf(col(\"Item\"))) \\\n",
        "                   .withColumn(\"ItemName\", get_item_name_udf(col(\"Item\"))) \\\n",
        "                   .drop(\"Item\") # Drop the original 'Item' column\n",
        "\n",
        "# Show the transformed DataFrame\n",
        "df.show()"
      ],
      "metadata": {
        "id": "22z5vI7Cd_HL",
        "colab": {
          "base_uri": "https://localhost:8080/"
        },
        "outputId": "ec00c35b-73c2-40d1-9ea0-e79ec78036f0"
      },
      "execution_count": 21,
      "outputs": [
        {
          "output_type": "stream",
          "name": "stdout",
          "text": [
            "+----------+-------------------+-------------+----------------+----------------+---------------+----------+--------+---------------+--------------------+\n",
            "|AppVersion|      EventDateTime|    EventName|            City|          Region|MobileBrandName| SessionID|  Source|   ItemCategory|            ItemName|\n",
            "+----------+-------------------+-------------+----------------+----------------+---------------+----------+--------+---------------+--------------------+\n",
            "|     2.1.7|2023-08-28 13:07:14|session_start|           Hanoi|           Hanoi|          Apple|1693228034|(direct)|           NULL|                NULL|\n",
            "|     2.1.7|2023-08-28 03:50:44|session_start|Ho Chi Minh City|Ho Chi Minh City|          Apple|1693194644|(direct)|           NULL|                NULL|\n",
            "|   Website|2023-08-28 10:29:47|    page_view|Ho Chi Minh City|Ho Chi Minh City|         Xiaomi|1693218578|FACEBOOK|           NULL|                NULL|\n",
            "|   Website|2023-08-28 04:50:27|session_start|Ho Chi Minh City|Ho Chi Minh City|          Apple|1693198227|     sms|           NULL|                NULL|\n",
            "|     2.1.7|2023-08-28 05:04:53|session_start|Ho Chi Minh City|Ho Chi Minh City|          Apple|1693199093|  google|           NULL|                NULL|\n",
            "|   Website|2023-08-28 05:26:34|    page_view|        Bien Hoa|        Dong Nai|          Apple|1693200394|  google|           NULL|                NULL|\n",
            "|   Website|2023-08-28 04:35:02|    page_view|       Hai Duong|       Hai Duong|          Apple|1693197302|  google|           NULL|                NULL|\n",
            "|   Website|2023-08-28 04:03:57|session_start|         Son Tay|           Hanoi|          Apple|1693195437|  google|           NULL|                NULL|\n",
            "|   Website|2023-08-28 06:45:04|session_start|       Nam Djinh|        Nam Dinh|          Apple|1693205104|  google|           NULL|                NULL|\n",
            "|   Website|2023-08-28 10:05:34|    page_view|Ho Chi Minh City|Ho Chi Minh City|          Apple|1693217101|  google|           NULL|                NULL|\n",
            "|   Website|2023-08-28 03:20:14|session_start|Ho Chi Minh City|Ho Chi Minh City|          Apple|1693192813|  google|           NULL|                NULL|\n",
            "|   Website|2023-08-28 10:32:58|    page_view|         Son Tay|           Hanoi|          Apple|1693217992|  google|           NULL|                NULL|\n",
            "|   Website|2023-08-28 07:11:59|    view_item|Ho Chi Minh City|Ho Chi Minh City|          Apple|1693206528|  google|FREESECONDPIZZA|FREE SECOND PIZZA...|\n",
            "|   Website|2023-08-28 04:20:45|    page_view|       Thanh Hoa|       Thanh Hoa|          Apple|1693196346|  google|           NULL|                NULL|\n",
            "|   Website|2023-08-28 09:10:53|session_start|        Bien Hoa|        Dong Nai|          Apple|1693213853|  google|           NULL|                NULL|\n",
            "|   Website|2023-08-28 12:24:14|session_start|                |       Khanh Hoa|          Apple|1693225454|  google|           NULL|                NULL|\n",
            "|   Website|2023-08-28 09:31:30|    page_view|Ho Chi Minh City|Ho Chi Minh City|          Apple|1693214992|  google|           NULL|                NULL|\n",
            "|   Website|2023-08-28 13:49:35|    page_view|        Bien Hoa|        Dong Nai|          Apple|1693230532|  google|           NULL|                NULL|\n",
            "|   Website|2023-08-28 06:47:39|    page_view|       Hai Duong|       Hai Duong|          Apple|1693205194|  google|           NULL|                NULL|\n",
            "|   Website|2023-08-28 03:06:54|    page_view|           Hanoi|           Hanoi|          Apple|1693191924|  google|           NULL|                NULL|\n",
            "+----------+-------------------+-------------+----------------+----------------+---------------+----------+--------+---------------+--------------------+\n",
            "only showing top 20 rows\n",
            "\n"
          ]
        }
      ]
    },
    {
      "cell_type": "markdown",
      "source": [
        "# Create ItemID column for each Item"
      ],
      "metadata": {
        "id": "dVm_8pySG8VB"
      }
    },
    {
      "cell_type": "code",
      "source": [
        "# Normalize names and create a unique key for each product\n",
        "df = df.withColumn(\"ItemKey\",\n",
        "            F.concat_ws(\"_\",\n",
        "            F.lower(F.trim(F.col(\"ItemCategory\"))),\n",
        "            F.lower(F.trim(F.col(\"ItemName\")))\n",
        "        )\n",
        ")\n",
        "# Get the list of unique ItemKeys and assign sequential IDs\n",
        "item_keys = df.select(\"ItemKey\").where(F.col(\"ItemKey\").isNotNull()).distinct().withColumn(\n",
        "    \"ItemID\",\n",
        "    F.row_number().over(Window.orderBy(\"ItemKey\")) - 1  # Start from 0\n",
        ")\n",
        "\n",
        "# Join back to df to add ItemID\n",
        "df = df.join(item_keys, on=\"ItemKey\", how=\"left\").drop(\"ItemKey\")\n",
        "\n",
        "# Handle mising value\n",
        "df = df.fillna(\" \", subset=[\"ItemCategory\", \"ItemName\"])\n",
        "df.show()"
      ],
      "metadata": {
        "colab": {
          "base_uri": "https://localhost:8080/"
        },
        "id": "2cQRTF7fF34L",
        "outputId": "1aaf4d1d-6c9a-4e65-94c6-f3f73d50c58a"
      },
      "execution_count": 22,
      "outputs": [
        {
          "output_type": "stream",
          "name": "stdout",
          "text": [
            "+----------+-------------------+-------------+----------------+----------------+---------------+----------+--------+---------------+--------------------+------+\n",
            "|AppVersion|      EventDateTime|    EventName|            City|          Region|MobileBrandName| SessionID|  Source|   ItemCategory|            ItemName|ItemID|\n",
            "+----------+-------------------+-------------+----------------+----------------+---------------+----------+--------+---------------+--------------------+------+\n",
            "|     2.1.7|2023-08-28 13:07:14|session_start|           Hanoi|           Hanoi|          Apple|1693228034|(direct)|               |                    |     0|\n",
            "|     2.1.7|2023-08-28 03:50:44|session_start|Ho Chi Minh City|Ho Chi Minh City|          Apple|1693194644|(direct)|               |                    |     0|\n",
            "|   Website|2023-08-28 10:29:47|    page_view|Ho Chi Minh City|Ho Chi Minh City|         Xiaomi|1693218578|FACEBOOK|               |                    |     0|\n",
            "|   Website|2023-08-28 04:50:27|session_start|Ho Chi Minh City|Ho Chi Minh City|          Apple|1693198227|     sms|               |                    |     0|\n",
            "|     2.1.7|2023-08-28 05:04:53|session_start|Ho Chi Minh City|Ho Chi Minh City|          Apple|1693199093|  google|               |                    |     0|\n",
            "|   Website|2023-08-28 05:26:34|    page_view|        Bien Hoa|        Dong Nai|          Apple|1693200394|  google|               |                    |     0|\n",
            "|   Website|2023-08-28 04:35:02|    page_view|       Hai Duong|       Hai Duong|          Apple|1693197302|  google|               |                    |     0|\n",
            "|   Website|2023-08-28 04:03:57|session_start|         Son Tay|           Hanoi|          Apple|1693195437|  google|               |                    |     0|\n",
            "|   Website|2023-08-28 06:45:04|session_start|       Nam Djinh|        Nam Dinh|          Apple|1693205104|  google|               |                    |     0|\n",
            "|   Website|2023-08-28 10:05:34|    page_view|Ho Chi Minh City|Ho Chi Minh City|          Apple|1693217101|  google|               |                    |     0|\n",
            "|   Website|2023-08-28 03:20:14|session_start|Ho Chi Minh City|Ho Chi Minh City|          Apple|1693192813|  google|               |                    |     0|\n",
            "|   Website|2023-08-28 10:32:58|    page_view|         Son Tay|           Hanoi|          Apple|1693217992|  google|               |                    |     0|\n",
            "|   Website|2023-08-28 07:11:59|    view_item|Ho Chi Minh City|Ho Chi Minh City|          Apple|1693206528|  google|FREESECONDPIZZA|FREE SECOND PIZZA...|   329|\n",
            "|   Website|2023-08-28 04:20:45|    page_view|       Thanh Hoa|       Thanh Hoa|          Apple|1693196346|  google|               |                    |     0|\n",
            "|   Website|2023-08-28 09:10:53|session_start|        Bien Hoa|        Dong Nai|          Apple|1693213853|  google|               |                    |     0|\n",
            "|   Website|2023-08-28 12:24:14|session_start|                |       Khanh Hoa|          Apple|1693225454|  google|               |                    |     0|\n",
            "|   Website|2023-08-28 09:31:30|    page_view|Ho Chi Minh City|Ho Chi Minh City|          Apple|1693214992|  google|               |                    |     0|\n",
            "|   Website|2023-08-28 13:49:35|    page_view|        Bien Hoa|        Dong Nai|          Apple|1693230532|  google|               |                    |     0|\n",
            "|   Website|2023-08-28 06:47:39|    page_view|       Hai Duong|       Hai Duong|          Apple|1693205194|  google|               |                    |     0|\n",
            "|   Website|2023-08-28 03:06:54|    page_view|           Hanoi|           Hanoi|          Apple|1693191924|  google|               |                    |     0|\n",
            "+----------+-------------------+-------------+----------------+----------------+---------------+----------+--------+---------------+--------------------+------+\n",
            "only showing top 20 rows\n",
            "\n"
          ]
        }
      ]
    },
    {
      "cell_type": "code",
      "source": [
        "# check duplicate\n",
        "duplicates = df.groupBy(df.columns).count().filter(\"count > 1\")\n",
        "print(duplicates.count())\n",
        "\n",
        "# drop duplicate\n",
        "df= df.dropDuplicates()"
      ],
      "metadata": {
        "id": "09JjLL6S9MIR"
      },
      "execution_count": null,
      "outputs": []
    },
    {
      "cell_type": "code",
      "source": [
        "from pyspark.sql.functions import min as spark_min, max as spark_max\n",
        "\n",
        "# Calculate session start and end times\n",
        "session_times = df.groupBy(\"SessionID\").agg(\n",
        "    spark_min(\"EventDateTime\").alias(\"SessionStart\"),\n",
        "    spark_max(\"EventDateTime\").alias(\"SessionEnd\")\n",
        ")\n",
        "session_times.show()"
      ],
      "metadata": {
        "colab": {
          "base_uri": "https://localhost:8080/"
        },
        "id": "VlmHTOI41tg9",
        "outputId": "4cb2d4c5-0a26-4606-9aac-e5d9afb68e49"
      },
      "execution_count": 32,
      "outputs": [
        {
          "output_type": "stream",
          "name": "stdout",
          "text": [
            "+----------+-------------------+-------------------+\n",
            "| SessionID|       SessionStart|         SessionEnd|\n",
            "+----------+-------------------+-------------------+\n",
            "|1693195720|2023-08-28 04:08:40|2023-08-28 04:08:40|\n",
            "|1693214467|2023-08-28 09:21:08|2023-08-28 09:23:41|\n",
            "|1693208955|2023-08-28 07:49:15|2023-08-28 07:49:21|\n",
            "|1693197584|2023-08-28 04:39:44|2023-08-28 04:39:51|\n",
            "|1693212993|2023-08-28 08:56:33|2023-08-28 08:59:45|\n",
            "|1693187728|2023-08-28 01:55:29|2023-08-28 02:02:49|\n",
            "|1693206179|2023-08-28 07:03:00|2023-08-28 07:03:49|\n",
            "|1693230528|2023-08-28 13:48:49|2023-08-28 13:48:49|\n",
            "|1693205559|2023-08-28 06:52:39|2023-08-28 06:59:01|\n",
            "|1693221781|2023-08-28 11:23:01|2023-08-28 11:23:15|\n",
            "|1693187031|2023-08-28 01:43:51|2023-08-28 01:43:51|\n",
            "|1693217938|2023-08-28 10:18:58|2023-08-28 10:18:58|\n",
            "|1693215492|2023-08-28 09:38:11|2023-08-28 09:38:21|\n",
            "|1693217783|2023-08-28 10:16:23|2023-08-28 10:29:21|\n",
            "|1693227405|2023-08-28 12:56:45|2023-08-28 12:58:25|\n",
            "|1693224647|2023-08-28 12:10:47|2023-08-28 12:14:40|\n",
            "|1693212527|2023-08-28 08:48:47|2023-08-28 09:06:12|\n",
            "|1693216719|2023-08-28 10:01:06|2023-08-28 10:02:04|\n",
            "|1693192250|2023-08-28 03:10:50|2023-08-28 03:21:39|\n",
            "|1693215323|2023-08-28 09:35:23|2023-08-28 09:41:18|\n",
            "+----------+-------------------+-------------------+\n",
            "only showing top 20 rows\n",
            "\n"
          ]
        }
      ]
    },
    {
      "cell_type": "code",
      "source": [
        "#join back to df\n",
        "temp = df.join(session_times, on=\"SessionID\", how=\"left\")\n",
        "# check duplicate\n",
        "duplicates = temp.groupBy(temp.columns).count().filter(\"count > 1\")\n",
        "print(duplicates.count())"
      ],
      "metadata": {
        "colab": {
          "base_uri": "https://localhost:8080/"
        },
        "id": "Ji7TTftp5pFF",
        "outputId": "0b21461e-a97f-4eec-fcdc-15f18232afd5"
      },
      "execution_count": 33,
      "outputs": [
        {
          "output_type": "stream",
          "name": "stdout",
          "text": [
            "0\n"
          ]
        }
      ]
    },
    {
      "cell_type": "code",
      "source": [
        "# Convert the PySpark DataFrame to a Pandas DataFrame\n",
        "df = temp.toPandas()\n",
        "\n",
        "# Now you can use to_csv on the Pandas DataFrame\n",
        "df.to_csv('clean_data.csv', index=False)\n",
        "\n",
        "from google.colab import files\n",
        "files.download('clean_data.csv')"
      ],
      "metadata": {
        "colab": {
          "base_uri": "https://localhost:8080/",
          "height": 17
        },
        "id": "AVDKJjKdR81n",
        "outputId": "b42ba08b-283c-48a0-8cb7-c06c38ff6ec4"
      },
      "execution_count": 34,
      "outputs": [
        {
          "output_type": "display_data",
          "data": {
            "text/plain": [
              "<IPython.core.display.Javascript object>"
            ],
            "application/javascript": [
              "\n",
              "    async function download(id, filename, size) {\n",
              "      if (!google.colab.kernel.accessAllowed) {\n",
              "        return;\n",
              "      }\n",
              "      const div = document.createElement('div');\n",
              "      const label = document.createElement('label');\n",
              "      label.textContent = `Downloading \"${filename}\": `;\n",
              "      div.appendChild(label);\n",
              "      const progress = document.createElement('progress');\n",
              "      progress.max = size;\n",
              "      div.appendChild(progress);\n",
              "      document.body.appendChild(div);\n",
              "\n",
              "      const buffers = [];\n",
              "      let downloaded = 0;\n",
              "\n",
              "      const channel = await google.colab.kernel.comms.open(id);\n",
              "      // Send a message to notify the kernel that we're ready.\n",
              "      channel.send({})\n",
              "\n",
              "      for await (const message of channel.messages) {\n",
              "        // Send a message to notify the kernel that we're ready.\n",
              "        channel.send({})\n",
              "        if (message.buffers) {\n",
              "          for (const buffer of message.buffers) {\n",
              "            buffers.push(buffer);\n",
              "            downloaded += buffer.byteLength;\n",
              "            progress.value = downloaded;\n",
              "          }\n",
              "        }\n",
              "      }\n",
              "      const blob = new Blob(buffers, {type: 'application/binary'});\n",
              "      const a = document.createElement('a');\n",
              "      a.href = window.URL.createObjectURL(blob);\n",
              "      a.download = filename;\n",
              "      div.appendChild(a);\n",
              "      a.click();\n",
              "      div.remove();\n",
              "    }\n",
              "  "
            ]
          },
          "metadata": {}
        },
        {
          "output_type": "display_data",
          "data": {
            "text/plain": [
              "<IPython.core.display.Javascript object>"
            ],
            "application/javascript": [
              "download(\"download_dda847b0-c85a-4c1a-8aff-5184726dfe2c\", \"clean_data.csv\", 58619737)"
            ]
          },
          "metadata": {}
        }
      ]
    }
  ],
  "metadata": {
    "colab": {
      "provenance": [],
      "collapsed_sections": [
        "gF3Q7NpbgNn0",
        "WdSEd4vsl7hZ"
      ]
    },
    "kernelspec": {
      "display_name": "Python (pyspark_env)",
      "language": "python",
      "name": "pyspark_env"
    },
    "language_info": {
      "codemirror_mode": {
        "name": "ipython",
        "version": 3
      },
      "file_extension": ".py",
      "mimetype": "text/x-python",
      "name": "python",
      "nbconvert_exporter": "python",
      "pygments_lexer": "ipython3",
      "version": "3.10.15"
    }
  },
  "nbformat": 4,
  "nbformat_minor": 0
}